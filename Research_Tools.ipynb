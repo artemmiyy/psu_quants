{
  "nbformat": 4,
  "nbformat_minor": 0,
  "metadata": {
    "colab": {
      "provenance": [],
      "include_colab_link": true
    },
    "kernelspec": {
      "name": "python3",
      "display_name": "Python 3"
    },
    "language_info": {
      "name": "python"
    }
  },
  "cells": [
    {
      "cell_type": "markdown",
      "metadata": {
        "id": "view-in-github",
        "colab_type": "text"
      },
      "source": [
        "<a href=\"https://colab.research.google.com/github/artemmiyy/psu_quants/blob/investing/Research_Tools.ipynb\" target=\"_parent\"><img src=\"https://colab.research.google.com/assets/colab-badge.svg\" alt=\"Open In Colab\"/></a>"
      ]
    },
    {
      "cell_type": "code",
      "source": [
        "!pip install yfinance"
      ],
      "metadata": {
        "id": "XazDq8-bOU01"
      },
      "execution_count": null,
      "outputs": []
    },
    {
      "cell_type": "code",
      "source": [
        "from pandas_datareader import data as pdr\n",
        "import yfinance as yf\n",
        "import pandas as pd\n",
        "import numpy as np\n",
        "from datetime import datetime\n",
        "import matplotlib as plt\n",
        "yf.pdr_override()"
      ],
      "metadata": {
        "id": "xjDkhUK-xwFt"
      },
      "execution_count": null,
      "outputs": []
    },
    {
      "cell_type": "markdown",
      "source": [
        "Various functions to load, manipulate, and perform EDA on stock data from Yahoo Finance can be found below"
      ],
      "metadata": {
        "id": "-29Sf3iGm8ok"
      }
    },
    {
      "cell_type": "code",
      "source": [
        "# loads US stock price data into a pandas dataframe\n",
        "# default interval is 1 day for price and period\n",
        "# Example query: load_us_stock_data('AAPL', datetime(2000, 12, 16), datetime(2012, 12, 16))\n",
        "\n",
        "def load_us_stock_data(ticker, start_date, end_date):\n",
        "  stocks_data = pd.DataFrame()\n",
        "  stocks_data = pdr.get_data_yahoo(ticker, start = start_date, end = end_date)\n",
        "  return stocks_data"
      ],
      "metadata": {
        "id": "9jbT2f439UdL"
      },
      "execution_count": null,
      "outputs": []
    },
    {
      "cell_type": "code",
      "source": [
        "# takes a dataframe with stock price data and a datetime startdate\n",
        "# Example query: us_avg_stock_return('AAPL', datetime(2000, 12, 16), datetime(2012, 12, 16))\n",
        "\n",
        "def us_stock_avg_return(ticker, start_date, end_date):\n",
        "  stock_df = load_us_stock_data(ticker, start_date, end_date)\n",
        "  daily_returns = (stock_df / stock_df.shift(1)) - 1\n",
        "  avg_annual_stock_return = daily_returns.mean() * 252\n",
        "  return avg_annual_stock_return"
      ],
      "metadata": {
        "id": "S2WM1TZk41U5"
      },
      "execution_count": null,
      "outputs": []
    },
    {
      "cell_type": "code",
      "source": [
        "# plots a daily return of a US stock. \n",
        "# Example query: plot_daily_return('AAPL', datetime(2000, 12, 16), datetime(2012, 12, 16))\n",
        "\n",
        "def plot_daily_return(ticker, start_date, end_date):\n",
        "  stock_df = load_us_stock_data(ticker, start_date, end_date)\n",
        "  daily_returns = (stock_df / stock_df.shift(1)) - 1\n",
        "  daily_returns.plot(figsize = (12,6))"
      ],
      "metadata": {
        "id": "Wji4A5wBoKRB"
      },
      "execution_count": null,
      "outputs": []
    }
  ]
}